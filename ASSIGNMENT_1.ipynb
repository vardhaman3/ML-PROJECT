{
  "nbformat": 4,
  "nbformat_minor": 0,
  "metadata": {
    "colab": {
      "name": "ASSIGNMENT_1.ipynb",
      "provenance": [],
      "authorship_tag": "ABX9TyPf55HVV6s96GnDFejivMld",
      "include_colab_link": true
    },
    "kernelspec": {
      "name": "python3",
      "display_name": "Python 3"
    }
  },
  "cells": [
    {
      "cell_type": "markdown",
      "metadata": {
        "id": "view-in-github",
        "colab_type": "text"
      },
      "source": [
        "<a href=\"https://colab.research.google.com/github/vardhaman3/ML-PROJECT/blob/vardhaman/ASSIGNMENT_1.ipynb\" target=\"_parent\"><img src=\"https://colab.research.google.com/assets/colab-badge.svg\" alt=\"Open In Colab\"/></a>"
      ]
    },
    {
      "cell_type": "markdown",
      "metadata": {
        "id": "_lrDjv4OJLUA"
      },
      "source": [
        "1st question\n"
      ]
    },
    {
      "cell_type": "code",
      "metadata": {
        "id": "GyO8QNajJFo4"
      },
      "source": [
        "B"
      ],
      "execution_count": null,
      "outputs": []
    },
    {
      "cell_type": "markdown",
      "metadata": {
        "id": "tBbHO7a9zjyc"
      },
      "source": [
        "2nd question\n"
      ]
    },
    {
      "cell_type": "code",
      "metadata": {
        "id": "9HZG4MpUzyKp"
      },
      "source": [
        "str=(input(\"\"))\n",
        "\n",
        "print(str.upper())"
      ],
      "execution_count": null,
      "outputs": []
    },
    {
      "cell_type": "markdown",
      "metadata": {
        "id": "s_vujBNB5kL2"
      },
      "source": [
        "3rd question\n"
      ]
    },
    {
      "cell_type": "code",
      "metadata": {
        "id": "ZwuXQFn95nt9"
      },
      "source": [
        "cost =int(input(\"\"))\n",
        "selling  =int(input(\"\"))\n",
        "\n",
        "if cost>selling:\n",
        "  print(\"loss\")\n",
        "elif cost<selling:\n",
        "  print(\"profit\")\n",
        "else  :\n",
        "  print(\"Neither\")  "
      ],
      "execution_count": null,
      "outputs": []
    },
    {
      "cell_type": "markdown",
      "metadata": {
        "id": "9DpWkIJPI5OA"
      },
      "source": [
        "4th question"
      ]
    },
    {
      "cell_type": "code",
      "metadata": {
        "id": "wILTthGNyii8"
      },
      "source": [
        "\n",
        "Euros=int(input())\n",
        "print(Euros*80)"
      ],
      "execution_count": null,
      "outputs": []
    }
  ]
}